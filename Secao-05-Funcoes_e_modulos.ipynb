{
 "cells": [
  {
   "cell_type": "markdown",
   "metadata": {},
   "source": [
    "# TECHMIMO\n",
    "\n",
    "\n",
    "Autor: Rafael Pereira da Silva\n",
    "\n",
    "Seguem alguns recados para ajudá-los e para contribuir com o curso:\n",
    "\n",
    "- Fiquem à vontade para me contatar pelo Linkdin, costumo responder por lá também: https://www.linkedin.com/in/rafael-pereira-da-silva-23890799/\n",
    "\n",
    "- Fiquem a vontade para compartilharem o certificado do curso no Linkedin. Eu costumo curtir e comentar para dar mais credibilidade\n",
    "\n",
    "- Vocês podem usar esses notebooks para resolver os exercícios e desafios\n",
    "\n",
    "- Não se esqueçam de avaliar o curso e dar feedback, eu costumo criar conteúdos baseado nas demandas de vocês\n",
    "- Se tiverem gostando do curso, recomendem aos amigos, pois isso também ajuda a impulsionar e a crescer a comunidade\n",
    "-  Bons estudos e grande abraços!\n"
   ]
  },
  {
   "cell_type": "markdown",
   "metadata": {},
   "source": [
    "## Sobre o Material\n",
    "\n",
    "Este material é parte do curso **Python para Engenheiros e Cientistas** e está sobre a licença MIT.\n",
    "Caso você tenha interesse em conhecer o curso, acesso o link abaixo.\n",
    "\n",
    "\n",
    "https://www.udemy.com/course/python-para-engenheiros-e-cientistas/?referralCode=FA25B2C024FF2D3F8232\n",
    "\n",
    "\n",
    "Algumas aulas, exercícios e desafios estarão sem códigos propositalmente para que o aluno possa preencher.\n"
   ]
  },
  {
   "cell_type": "markdown",
   "metadata": {},
   "source": [
    "# Seção 5 - Funções e módulos\n",
    "\n",
    "## 5.1 Funções\n",
    "\n",
    "### Definindo e chamando funções\n",
    "**def** minha_funcao(argumentos)**:**\n",
    "    \n",
    "        funcao_aqui\n",
    "    minha_funcao(argumentos) ##para chamar a função\n",
    "\n",
    "\n",
    "### Declaração *return*\n",
    "É usada quando se deseja retornar uma variável específica.\n",
    "\n",
    "**def** minha_funcao(argumentos)**:**\n",
    "\n",
    "    resultado = operações\n",
    "        \n",
    "    **return** resultado\n",
    "\n",
    "\n"
   ]
  },
  {
   "cell_type": "code",
   "execution_count": 44,
   "metadata": {},
   "outputs": [
    {
     "name": "stdout",
     "output_type": "stream",
     "text": [
      "meu nome é \n",
      "Python\n"
     ]
    }
   ],
   "source": [
    "def minha_funcao():\n",
    "    print('meu nome é ' )\n",
    "    print('Python')\n",
    "\n",
    "    \n",
    "meu_nome = 'Rafael'\n",
    "\n",
    "minha_funcao()"
   ]
  },
  {
   "cell_type": "code",
   "execution_count": 50,
   "metadata": {},
   "outputs": [
    {
     "name": "stdout",
     "output_type": "stream",
     "text": [
      "13\n"
     ]
    }
   ],
   "source": [
    "def soma_quadrados(a,b):\n",
    "    resultado = a**2 + b**2\n",
    "    return resultado\n",
    "\n",
    "n_1 = 3\n",
    "n_2 = 2\n",
    "    \n",
    "a = soma_quadrados(n_1,n_2)\n",
    "print(a)"
   ]
  },
  {
   "cell_type": "code",
   "execution_count": null,
   "metadata": {
    "collapsed": true
   },
   "outputs": [],
   "source": []
  },
  {
   "cell_type": "code",
   "execution_count": null,
   "metadata": {
    "collapsed": true
   },
   "outputs": [],
   "source": []
  },
  {
   "cell_type": "markdown",
   "metadata": {},
   "source": [
    "## 5.2 Módulos\n",
    "\n",
    "### O que é\n",
    "Módulos são arquivos Python (extensão *.py*) que contém conjuntos de funções, objetos, variáveis, entre outros. Essas funcionalidades podem ser chamadas das seguintes maneiras:\n",
    "\n",
    "**import** Nome_do_modulo\n",
    "\n",
    "**import** Nome_do_modulo **as** abreviação\n",
    "\n",
    "**from** Nome_do_modulo **import** algum_objeto\n",
    "\n",
    "### Referência\n",
    "Lista de módulos do Python: https://docs.python.org/3.8/py-modindex.html"
   ]
  },
  {
   "cell_type": "code",
   "execution_count": 53,
   "metadata": {},
   "outputs": [
    {
     "data": {
      "text/plain": [
       "float"
      ]
     },
     "execution_count": 53,
     "metadata": {},
     "output_type": "execute_result"
    }
   ],
   "source": [
    "import math\n",
    "\n",
    "a = math.cos(0)\n",
    "type(a)\n"
   ]
  },
  {
   "cell_type": "code",
   "execution_count": 55,
   "metadata": {},
   "outputs": [
    {
     "data": {
      "text/plain": [
       "0.0"
      ]
     },
     "execution_count": 55,
     "metadata": {},
     "output_type": "execute_result"
    }
   ],
   "source": [
    "import math as mt\n",
    "\n",
    "y = mt.sin(0)\n",
    "\n",
    "y\n"
   ]
  },
  {
   "cell_type": "code",
   "execution_count": 57,
   "metadata": {},
   "outputs": [
    {
     "data": {
      "text/plain": [
       "1.0"
      ]
     },
     "execution_count": 57,
     "metadata": {},
     "output_type": "execute_result"
    }
   ],
   "source": [
    "from math import pi,sin,cos\n",
    "\n",
    "x = sin(pi/2)\n",
    "x\n",
    "\n",
    "\n"
   ]
  },
  {
   "cell_type": "markdown",
   "metadata": {},
   "source": [
    "## 5.3 Criando um módulo\n",
    "Podemos criar um arquivo *.py* utilizando outra IDE e depois importá-la. "
   ]
  },
  {
   "cell_type": "code",
   "execution_count": 59,
   "metadata": {},
   "outputs": [
    {
     "data": {
      "text/plain": [
       "490.00000000000006"
      ]
     },
     "execution_count": 59,
     "metadata": {},
     "output_type": "execute_result"
    }
   ],
   "source": [
    "import peso\n",
    "\n",
    "m = 50\n",
    "\n",
    "p_t = peso.peso_terra(m)\n",
    "p_t\n",
    "\n"
   ]
  },
  {
   "cell_type": "code",
   "execution_count": 63,
   "metadata": {},
   "outputs": [
    {
     "data": {
      "text/plain": [
       "980.0000000000001"
      ]
     },
     "execution_count": 63,
     "metadata": {},
     "output_type": "execute_result"
    }
   ],
   "source": [
    "from peso import g_terra,g_lua,peso_terra\n",
    "\n",
    "g_terra\n",
    "\n",
    "peso_terra(100)\n",
    "\n"
   ]
  },
  {
   "cell_type": "code",
   "execution_count": null,
   "metadata": {
    "collapsed": true
   },
   "outputs": [],
   "source": []
  },
  {
   "cell_type": "markdown",
   "metadata": {},
   "source": [
    "## 5.4 Exercício 1 - \n",
    "Crie uma função que receba uma frase e retorne quantas palavras tem a frase. Dica: Utilize o método split()."
   ]
  },
  {
   "cell_type": "code",
   "execution_count": 1,
   "metadata": {},
   "outputs": [],
   "source": [
    "# Deve ser feito pelo aluno (assista a vídeo aula com a resolução)"
   ]
  },
  {
   "cell_type": "code",
   "execution_count": null,
   "metadata": {
    "collapsed": true
   },
   "outputs": [],
   "source": []
  },
  {
   "cell_type": "markdown",
   "metadata": {},
   "source": [
    "## 5.5 Exercício 2 -\n",
    "Crie uma função que lê um arquivo de extensão .txt e retorne quantas palavras tem esse arquivo. Dica: utilize o método readlines()\n"
   ]
  },
  {
   "cell_type": "code",
   "execution_count": 2,
   "metadata": {},
   "outputs": [],
   "source": [
    "# Deve ser feito pelo aluno (assista a vídeo aula com a resolução)"
   ]
  },
  {
   "cell_type": "markdown",
   "metadata": {},
   "source": [
    "## 5.6 Exercício 3 -\n",
    "Crie um módulo que receba o peso e a altura e calcula o IMC de uma pessoa.\n",
    "$$ IMC = \\frac{peso}{Altura^2}$$"
   ]
  },
  {
   "cell_type": "code",
   "execution_count": 3,
   "metadata": {},
   "outputs": [],
   "source": [
    "# Deve ser feito pelo aluno (assista a vídeo aula com a resolução)"
   ]
  },
  {
   "cell_type": "code",
   "execution_count": null,
   "metadata": {},
   "outputs": [],
   "source": []
  },
  {
   "cell_type": "markdown",
   "metadata": {},
   "source": [
    "## 5.7 Preparação para o desafio 1 (matplotlib 3d)"
   ]
  },
  {
   "cell_type": "code",
   "execution_count": 4,
   "metadata": {},
   "outputs": [],
   "source": [
    "# Deve ser feito pelo aluno (assista a vídeo aula com a resolução)"
   ]
  },
  {
   "cell_type": "markdown",
   "metadata": {},
   "source": [
    "## 5.8 Desafio 1 - Plotando coordenadas\n",
    "Crie um módulo que leia um arquivo de pontos 3D e faça um gráfico desses pontos.\n",
    "\n",
    "Arquivo de pontos: PONTOS_ESFERA.txt\n",
    "\n",
    "Fonte para fazer o gráfico: https://matplotlib.org/mpl_toolkits/mplot3d/tutorial.html"
   ]
  },
  {
   "cell_type": "code",
   "execution_count": 5,
   "metadata": {},
   "outputs": [],
   "source": [
    "# Deve ser feito pelo aluno (assista a vídeo aula com a resolução)"
   ]
  }
 ],
 "metadata": {
  "kernelspec": {
   "display_name": "Python 3",
   "language": "python",
   "name": "python3"
  },
  "language_info": {
   "codemirror_mode": {
    "name": "ipython",
    "version": 3
   },
   "file_extension": ".py",
   "mimetype": "text/x-python",
   "name": "python",
   "nbconvert_exporter": "python",
   "pygments_lexer": "ipython3",
   "version": "3.8.3"
  }
 },
 "nbformat": 4,
 "nbformat_minor": 2
}
