{
 "cells": [
  {
   "cell_type": "markdown",
   "metadata": {},
   "source": [
    "# TECHMIMO\n",
    "\n",
    "\n",
    "Autor: Rafael Pereira da Silva\n",
    "\n",
    "Seguem alguns recados para ajudá-los e para contribuir com o curso:\n",
    "\n",
    "- Fiquem à vontade para me contatar pelo Linkdin, costumo responder por lá também: https://www.linkedin.com/in/rafael-pereira-da-silva-23890799/\n",
    "\n",
    "- Fiquem a vontade para compartilharem o certificado do curso no Linkedin. Eu costumo curtir e comentar para dar mais credibilidade\n",
    "\n",
    "- Vocês podem usar esses notebooks para resolver os exercícios e desafios\n",
    "\n",
    "- Não se esqueçam de avaliar o curso e dar feedback, eu costumo criar conteúdos baseado nas demandas de vocês\n",
    "- Se tiverem gostando do curso, recomendem aos amigos, pois isso também ajuda a impulsionar e a crescer a comunidade\n",
    "-  Bons estudos e grande abraços!\n"
   ]
  },
  {
   "cell_type": "markdown",
   "metadata": {},
   "source": [
    "## Sobre o Material\n",
    "\n",
    "Este material é parte do curso **Python para Engenheiros e Cientistas** e está sobre a licença MIT.\n",
    "Caso você tenha interesse em conhecer o curso, **acesso o link abaixo**.\n",
    "\n",
    "\n",
    "https://www.udemy.com/course/python-para-engenheiros-e-cientistas/?referralCode=FA25B2C024FF2D3F8232\n",
    "\n",
    "\n",
    "Algumas aulas, exercícios e desafios estarão sem códigos propositalmente para que o aluno possa preencher.\n"
   ]
  },
  {
   "cell_type": "markdown",
   "metadata": {},
   "source": [
    "# Seção 2 - Introdução ao Python\n",
    "\n",
    "Essa aula é inspirada em: \n",
    "- https://docs.python.org/3/tutorial/introduction.html\n",
    "- https://docs.python.org/3/library/stdtypes.html#iterator-types"
   ]
  },
  {
   "cell_type": "markdown",
   "metadata": {},
   "source": [
    "## 2.1 Iniciando os estudos\n",
    "\n",
    "### Tipo de variáveis (*built-in types*):\n",
    "- int = número inteiro\n",
    "- float = número real\n",
    "- complex = número complexo\n",
    "- str = texto\n",
    "\n",
    "Estes tipos de valores podem ser armazenados dentro de variáveis.\n",
    "\n",
    "### Primeiras funções\n",
    "\n",
    "\n",
    "| Função | Descrição |\n",
    "| :-- | :-- |\n",
    "| print() | exibe um dado input |\n",
    "| input()                  | retorna uma **string** dada pelo usuário |\n",
    "| int(), float(), str() | conversão de tipo |\n",
    "| type()                   | retorna o tipo da variável |"
   ]
  },
  {
   "cell_type": "code",
   "execution_count": 2,
   "metadata": {},
   "outputs": [
    {
     "name": "stdout",
     "output_type": "stream",
     "text": [
      "Olá mundo\n"
     ]
    }
   ],
   "source": [
    "print('Olá mundo')\n",
    "\n"
   ]
  },
  {
   "cell_type": "code",
   "execution_count": 5,
   "metadata": {},
   "outputs": [
    {
     "name": "stdout",
     "output_type": "stream",
     "text": [
      "Digite um numero 5\n"
     ]
    }
   ],
   "source": [
    "variavel_b = input('Digite um numero ')"
   ]
  },
  {
   "cell_type": "code",
   "execution_count": 8,
   "metadata": {},
   "outputs": [
    {
     "data": {
      "text/plain": [
       "'5'"
      ]
     },
     "execution_count": 8,
     "metadata": {},
     "output_type": "execute_result"
    }
   ],
   "source": [
    "variavel_b"
   ]
  },
  {
   "cell_type": "code",
   "execution_count": 11,
   "metadata": {},
   "outputs": [
    {
     "data": {
      "text/plain": [
       "float"
      ]
     },
     "execution_count": 11,
     "metadata": {},
     "output_type": "execute_result"
    }
   ],
   "source": [
    "b = 5.\n",
    "\n",
    "type(b)\n"
   ]
  },
  {
   "cell_type": "code",
   "execution_count": null,
   "metadata": {
    "collapsed": true
   },
   "outputs": [],
   "source": []
  },
  {
   "cell_type": "markdown",
   "metadata": {},
   "source": [
    "## 2.2 Números\n",
    "\n",
    "**Operações básicas:**\n",
    "\n",
    "| Símbolo | Descrição |\n",
    "| :-- | :-- |\n",
    "| (+) | soma |\n",
    "| (-) | subtração |\n",
    "| (*) | multiplicação |\n",
    "| (/)| divisão |\n",
    "| (//) | parte inteira da divisão |\n",
    "| (**) | exponencial |\n",
    "| += | adiciona para a variável |\n",
    "| *= | multiplica pela variável |\n",
    "\n",
    "- LEE, Kent D. Python Programming Fundamentals. Second Edition. Springer - Verlag London 2014.\n",
    "- https://link.springer.com/chapter/10.1007%2F978-1-4471-6642-9_8\n",
    "- https://link.springer.com/chapter/10.1007%2F978-1-4471-6642-9_9"
   ]
  },
  {
   "cell_type": "code",
   "execution_count": 19,
   "metadata": {},
   "outputs": [
    {
     "data": {
      "text/plain": [
       "float"
      ]
     },
     "execution_count": 19,
     "metadata": {},
     "output_type": "execute_result"
    }
   ],
   "source": [
    "a = 5\n",
    "b = 5.\n",
    "c = a + b\n",
    "type(c)\n"
   ]
  },
  {
   "cell_type": "code",
   "execution_count": 26,
   "metadata": {},
   "outputs": [
    {
     "data": {
      "text/plain": [
       "15"
      ]
     },
     "execution_count": 26,
     "metadata": {},
     "output_type": "execute_result"
    }
   ],
   "source": [
    "a = 5\n",
    "d = 10\n",
    "d += 5\n",
    "d"
   ]
  },
  {
   "cell_type": "code",
   "execution_count": 27,
   "metadata": {},
   "outputs": [
    {
     "data": {
      "text/plain": [
       "100"
      ]
     },
     "execution_count": 27,
     "metadata": {},
     "output_type": "execute_result"
    }
   ],
   "source": [
    "e = 10**2\n",
    "e\n"
   ]
  },
  {
   "cell_type": "code",
   "execution_count": 35,
   "metadata": {},
   "outputs": [
    {
     "data": {
      "text/plain": [
       "(-1+0j)"
      ]
     },
     "execution_count": 35,
     "metadata": {},
     "output_type": "execute_result"
    }
   ],
   "source": [
    "n_1 = 1j\n",
    "n_2 = 1j\n",
    "n_1*n_2"
   ]
  },
  {
   "cell_type": "code",
   "execution_count": 38,
   "metadata": {},
   "outputs": [
    {
     "data": {
      "text/plain": [
       "15129.0"
      ]
     },
     "execution_count": 38,
     "metadata": {},
     "output_type": "execute_result"
    }
   ],
   "source": [
    "string_numero = '123'\n",
    "n_1 = float(string_numero)\n",
    "\n",
    "n_1*n_1"
   ]
  },
  {
   "cell_type": "code",
   "execution_count": null,
   "metadata": {
    "collapsed": true
   },
   "outputs": [],
   "source": []
  },
  {
   "cell_type": "code",
   "execution_count": null,
   "metadata": {
    "collapsed": true
   },
   "outputs": [],
   "source": []
  },
  {
   "cell_type": "markdown",
   "metadata": {},
   "source": [
    "## 2.3 String\n",
    "- Strings são variáveis de texto\n",
    "- Alguns caracteres, como as aspas, não podem ser adicionados diretamente. Então é necessário \\\n",
    "- \\n representa uma nova linha\n",
    "- Algumas operações básicas funcionam para manipular strings\n"
   ]
  },
  {
   "cell_type": "code",
   "execution_count": 1,
   "metadata": {},
   "outputs": [
    {
     "name": "stdout",
     "output_type": "stream",
     "text": [
      "Olá mundo\n",
      "Olá mundo\n",
      "\n"
     ]
    }
   ],
   "source": [
    "a = 'Olá mundo\\n'\n",
    "b = a*2\n",
    "print(b)\n"
   ]
  },
  {
   "cell_type": "code",
   "execution_count": null,
   "metadata": {
    "collapsed": true
   },
   "outputs": [],
   "source": []
  },
  {
   "cell_type": "code",
   "execution_count": null,
   "metadata": {
    "collapsed": true
   },
   "outputs": [],
   "source": []
  },
  {
   "cell_type": "code",
   "execution_count": null,
   "metadata": {
    "collapsed": true
   },
   "outputs": [],
   "source": []
  },
  {
   "cell_type": "markdown",
   "metadata": {
    "collapsed": true
   },
   "source": [
    "## 2.4 Listas\n",
    "Listas são conjuntos de dados que podem conter dados de diferentes tipos. Elas possuem valores indexados a partir de zero."
   ]
  },
  {
   "cell_type": "code",
   "execution_count": 60,
   "metadata": {},
   "outputs": [
    {
     "data": {
      "text/plain": [
       "[1, 'asdf', [3.0, 2], 4]"
      ]
     },
     "execution_count": 60,
     "metadata": {},
     "output_type": "execute_result"
    }
   ],
   "source": [
    "lista_a = [1,'asdf',[3.,2],4]\n",
    "lista_a\n"
   ]
  },
  {
   "cell_type": "code",
   "execution_count": 71,
   "metadata": {},
   "outputs": [
    {
     "data": {
      "text/plain": [
       "[5, 1, 2]"
      ]
     },
     "execution_count": 71,
     "metadata": {},
     "output_type": "execute_result"
    }
   ],
   "source": [
    "lista_b = [3,'asdf',5,1,2]\n",
    "\n",
    "\n",
    "lista_b[2:]\n",
    "\n",
    "\n"
   ]
  },
  {
   "cell_type": "code",
   "execution_count": 64,
   "metadata": {},
   "outputs": [
    {
     "data": {
      "text/plain": [
       "[1, 2, 3, 4, 3, 'asdf', 5, 1, 2]"
      ]
     },
     "execution_count": 64,
     "metadata": {},
     "output_type": "execute_result"
    }
   ],
   "source": [
    "lista_c = [1,2,3,4]\n",
    "lista_c + lista_b\n"
   ]
  },
  {
   "cell_type": "code",
   "execution_count": null,
   "metadata": {
    "collapsed": true
   },
   "outputs": [],
   "source": []
  },
  {
   "cell_type": "code",
   "execution_count": null,
   "metadata": {
    "collapsed": true
   },
   "outputs": [],
   "source": []
  },
  {
   "cell_type": "markdown",
   "metadata": {},
   "source": [
    "## 2.5 Similaridades entre listas e strings\n",
    "- Ambos são indexáveis com indices a partir de [0]\n",
    "- Strings, assim como listas, podem ser fatiadas\n",
    "- A funcão len(*x*) retorna o número de elementos de uma lista e o número de caractéres de uma string\n",
    "- A operação de soma funciona de maneira parecida\n",
    "- Ambas podem ser multiplicadas por um valor inteiro\n",
    "\n",
    "Mas atenção, não são do mesmo tipo!"
   ]
  },
  {
   "cell_type": "code",
   "execution_count": 92,
   "metadata": {},
   "outputs": [
    {
     "data": {
      "text/plain": [
       "['PA',\n",
       " 'YA',\n",
       " 'TA',\n",
       " 'HA',\n",
       " 'OA',\n",
       " 'NA',\n",
       " 'PA',\n",
       " 'YA',\n",
       " 'TA',\n",
       " 'HA',\n",
       " 'OA',\n",
       " 'NA',\n",
       " 'PA',\n",
       " 'YA',\n",
       " 'TA',\n",
       " 'HA',\n",
       " 'OA',\n",
       " 'NA']"
      ]
     },
     "execution_count": 92,
     "metadata": {},
     "output_type": "execute_result"
    }
   ],
   "source": [
    "Lista_1 = ['PA','YA','TA','HA','OA','NA']\n",
    "string_1 = 'PAYATAHAOANA'\n",
    "\n",
    "Lista_1 *3\n"
   ]
  },
  {
   "cell_type": "code",
   "execution_count": null,
   "metadata": {
    "collapsed": true
   },
   "outputs": [],
   "source": []
  },
  {
   "cell_type": "code",
   "execution_count": null,
   "metadata": {
    "collapsed": true
   },
   "outputs": [],
   "source": []
  },
  {
   "cell_type": "code",
   "execution_count": null,
   "metadata": {
    "collapsed": true
   },
   "outputs": [],
   "source": []
  },
  {
   "cell_type": "markdown",
   "metadata": {
    "collapsed": true
   },
   "source": [
    "## 2.6 Valores Booleanos (*Boolean Values*)\n",
    "\n",
    "### O que é\n",
    "As variáveis do tipo *bool* armazenam constantes do tipo *True* ou *False*\n"
   ]
  },
  {
   "cell_type": "code",
   "execution_count": 96,
   "metadata": {},
   "outputs": [
    {
     "data": {
      "text/plain": [
       "False"
      ]
     },
     "execution_count": 96,
     "metadata": {},
     "output_type": "execute_result"
    }
   ],
   "source": [
    "False"
   ]
  },
  {
   "cell_type": "code",
   "execution_count": 98,
   "metadata": {},
   "outputs": [
    {
     "data": {
      "text/plain": [
       "bool"
      ]
     },
     "execution_count": 98,
     "metadata": {},
     "output_type": "execute_result"
    }
   ],
   "source": [
    "a = True\n",
    "type(a)"
   ]
  },
  {
   "cell_type": "code",
   "execution_count": null,
   "metadata": {
    "collapsed": true
   },
   "outputs": [],
   "source": []
  },
  {
   "cell_type": "markdown",
   "metadata": {},
   "source": [
    "### Comparações\n",
    "Comparações retornam variáveis do tipo *bool*\n",
    "\n",
    "| Comparação | Descrição |\n",
    "| :-- | :-- |\n",
    "| > | menor que |\n",
    "| <= | menor ou igual a |\n",
    "| > | maior que |\n",
    "| >= | maior ou igual a |\n",
    "| == | igual a |\n",
    "| != | diferente de |\n",
    "\n",
    "Fonte: https://docs.python.org/3/library/stdtypes.html#iterator-types"
   ]
  },
  {
   "cell_type": "code",
   "execution_count": 103,
   "metadata": {},
   "outputs": [
    {
     "data": {
      "text/plain": [
       "True"
      ]
     },
     "execution_count": 103,
     "metadata": {},
     "output_type": "execute_result"
    }
   ],
   "source": [
    "a = 5 != 6 \n",
    "a"
   ]
  },
  {
   "cell_type": "code",
   "execution_count": null,
   "metadata": {
    "collapsed": true
   },
   "outputs": [],
   "source": []
  },
  {
   "cell_type": "code",
   "execution_count": null,
   "metadata": {
    "collapsed": true
   },
   "outputs": [],
   "source": []
  },
  {
   "cell_type": "code",
   "execution_count": null,
   "metadata": {
    "collapsed": true
   },
   "outputs": [],
   "source": []
  },
  {
   "cell_type": "code",
   "execution_count": null,
   "metadata": {
    "collapsed": true
   },
   "outputs": [],
   "source": []
  }
 ],
 "metadata": {
  "kernelspec": {
   "display_name": "Python 3",
   "language": "python",
   "name": "python3"
  },
  "language_info": {
   "codemirror_mode": {
    "name": "ipython",
    "version": 3
   },
   "file_extension": ".py",
   "mimetype": "text/x-python",
   "name": "python",
   "nbconvert_exporter": "python",
   "pygments_lexer": "ipython3",
   "version": "3.8.3"
  }
 },
 "nbformat": 4,
 "nbformat_minor": 2
}
